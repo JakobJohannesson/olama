{
 "cells": [
  {
   "cell_type": "code",
   "execution_count": 4,
   "metadata": {},
   "outputs": [],
   "source": [
    "#pip install ollama\n",
    "\n",
    "import pandas as pd\n",
    "import ollama\n"
   ]
  },
  {
   "cell_type": "code",
   "execution_count": 5,
   "metadata": {},
   "outputs": [
    {
     "name": "stdout",
     "output_type": "stream",
     "text": [
      "What a great question!\n",
      "\n",
      "The sky appears blue to our eyes because of the way that light behaves when it interacts with the Earth's atmosphere. Here's a simplified explanation:\n",
      "\n",
      "1. **Sunlight**: The sun emits white light, which is made up of all the colors of the visible spectrum (red, orange, yellow, green, blue, indigo, and violet).\n",
      "2. **Atmosphere**: When sunlight enters the Earth's atmosphere, it encounters tiny molecules of gases like nitrogen (N2) and oxygen (O2). These molecules scatter the light in all directions.\n",
      "3. **Scattering**: The shorter, blue wavelengths of light are scattered more than the longer, red wavelengths by these gas molecules. This is known as Rayleigh scattering, named after the British physicist Lord Rayleigh, who first described the phenomenon in the late 19th century.\n",
      "4. **Blue dominance**: As a result of this scattering, the blue light is dispersed throughout the atmosphere, giving the sky its blue appearance. The more blue light that's scattered, the bluer the sky will appear.\n",
      "5. **Red light prevails**: Meanwhile, the longer wavelengths of red and orange light continue to travel in a more direct path to our eyes, with less scattering. This is why the sun itself appears yellow or orange, as our atmosphere scatters away some of the shorter blue wavelengths.\n",
      "6. **Atmospheric conditions**: The color of the sky can be influenced by various atmospheric conditions, such as:\n",
      "\t* Dust and pollution particles: These can scatter light in different ways, making the sky appear more hazy or gray.\n",
      "\t* Water vapor: High humidity can lead to a more diffuse scattering of light, resulting in a whiter or grayer sky.\n",
      "\t* Clouds: Thick clouds can reflect and scatter sunlight, changing the apparent color of the sky.\n",
      "\n",
      "In summary, the sky appears blue because of the selective scattering of shorter blue wavelengths by the tiny gas molecules in our atmosphere. The exact shade of blue can vary depending on atmospheric conditions, but the fundamental principle remains the same!\n"
     ]
    }
   ],
   "source": [
    "\n",
    "response = ollama.chat(model='llama3', messages=[\n",
    "  {\n",
    "    'role': 'user',\n",
    "    'content': 'Why is the sky blue?',\n",
    "  },\n",
    "])\n",
    "print(response['message']['content'])"
   ]
  },
  {
   "cell_type": "markdown",
   "metadata": {},
   "source": [
    "### Model response\n",
    "\n",
    "\"What a great question!\n",
    "\n",
    "The sky appears blue to our eyes because of the way that light behaves when it interacts with the Earth's atmosphere. Here's a simplified explanation:\n",
    "\n",
    "1. **Sunlight**: The sun emits white light, which is made up of all the colors of the visible spectrum (red, orange, yellow, green, blue, indigo, and violet).\n",
    "2. **Atmosphere**: When sunlight enters the Earth's atmosphere, it encounters tiny molecules of gases like nitrogen (N2) and oxygen (O2). These molecules scatter the light in all directions.\n",
    "3. **Scattering**: The shorter, blue wavelengths of light are scattered more than the longer, red wavelengths by these gas molecules. This is known as Rayleigh scattering, named after the British physicist Lord Rayleigh, who first described the phenomenon in the late 19th century.\n",
    "4. **Blue dominance**: As a result of this scattering, the blue light is dispersed throughout the atmosphere, giving the sky its blue appearance. The more blue light that's scattered, the bluer the sky will appear.\n",
    "5. **Red light prevails**: Meanwhile, the longer wavelengths of red and orange light continue to travel in a more direct path to our eyes, with less scattering. This is why the sun itself appears yellow or orange, as our atmosphere scatters away some of the shorter blue wavelengths.\n",
    "6. **Atmospheric conditions**: The color of the sky can be influenced by various atmospheric conditions, such as:\n",
    "\t* Dust and pollution particles: These can scatter light in different ways, making the sky appear more hazy or gray.\n",
    "\t* Water vapor: High humidity can lead to a more diffuse scattering of light, resulting in a whiter or grayer sky.\n",
    "\t* Clouds: Thick clouds can reflect and scatter sunlight, changing the apparent color of the sky.\n",
    "\n",
    "In summary, the sky appears blue because of the selective scattering of shorter blue wavelengths by the tiny gas molecules in our atmosphere. The exact shade of blue can vary depending on atmospheric conditions, but the fundamental principle remains the same!\""
   ]
  },
  {
   "cell_type": "code",
   "execution_count": 8,
   "metadata": {},
   "outputs": [
    {
     "name": "stdout",
     "output_type": "stream",
     "text": [
      "To create a function in Python, you start by typing the `def` keyword followed by the name of your function and parentheses that contain any required parameters. Within the function, you can use variables, conditionals, loops, and other control structures to perform some action or computation. For example: `def greet(name): print(\"Hello, \" + name + \"!\")`."
     ]
    }
   ],
   "source": [
    "import ollama\n",
    "\n",
    "stream = ollama.chat(\n",
    "    model='llama3',\n",
    "    messages=[{'role': 'user', 'content': 'how to make a function in python? 3 sentence'}],\n",
    "    stream=True,\n",
    ")\n",
    "\n",
    "for chunk in stream:\n",
    "  print(chunk['message']['content'], end='', flush=True)\n"
   ]
  },
  {
   "cell_type": "code",
   "execution_count": 12,
   "metadata": {},
   "outputs": [
    {
     "data": {
      "text/plain": [
       "'I think I can help with that!\\n\\nThe song \"What\\'s the Difference (Between Me and You)\" is a popular hit by rapper JAY-Z, featuring Drake. The lyrics explore the theme of competition and comparison between two individuals, likely referencing their own careers and personal lives.\\n\\nIn this song, Jay-Z raps about how he sees himself as superior to others in the rap game, including Drake. He pokes fun at his rival\\'s perceived insecurities and tries to assert his dominance. Drake, on the other hand, responds with his own bars, highlighting the similarities between them and their shared experiences.\\n\\nThe core difference between \"me\" (JAY-Z) and \"you\" (Drake) in this context is the competitive dynamic they\\'re engaged in. Jay-Z comes across as more confident and assertive, while Drake seems to be pushing back against his opponent\\'s jabs. The song ultimately showcases the two rappers\\' lyrical skills and their ability to trade bars in a battle of wits.\\n\\nWould you like me to help with anything else?'"
      ]
     },
     "execution_count": 12,
     "metadata": {},
     "output_type": "execute_result"
    }
   ],
   "source": [
    "# Let's create a function\n",
    "def gpt(prompt=\"return hi, nothing else\"):\n",
    "  response = ollama.chat(model='llama3', messages=[\n",
    "  {\n",
    "    'role': 'user',\n",
    "    'content': prompt,\n",
    "  },\n",
    "  ])\n",
    "  return response['message']['content']\n",
    "\n",
    "\n",
    "gpt(\"What is the difference between me and you? song rapper\")\n"
   ]
  }
 ],
 "metadata": {
  "kernelspec": {
   "display_name": "Python 3",
   "language": "python",
   "name": "python3"
  },
  "language_info": {
   "codemirror_mode": {
    "name": "ipython",
    "version": 3
   },
   "file_extension": ".py",
   "mimetype": "text/x-python",
   "name": "python",
   "nbconvert_exporter": "python",
   "pygments_lexer": "ipython3",
   "version": "3.12.1"
  }
 },
 "nbformat": 4,
 "nbformat_minor": 2
}
