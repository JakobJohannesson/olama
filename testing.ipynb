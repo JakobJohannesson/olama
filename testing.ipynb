{
 "cells": [
  {
   "cell_type": "code",
   "execution_count": 4,
   "metadata": {},
   "outputs": [],
   "source": [
    "#pip install ollama\n",
    "\n",
    "import pandas as pd\n",
    "import ollama\n"
   ]
  },
  {
   "cell_type": "code",
   "execution_count": 5,
   "metadata": {},
   "outputs": [
    {
     "name": "stdout",
     "output_type": "stream",
     "text": [
      "What a great question!\n",
      "\n",
      "The sky appears blue to our eyes because of the way that light behaves when it interacts with the Earth's atmosphere. Here's a simplified explanation:\n",
      "\n",
      "1. **Sunlight**: The sun emits white light, which is made up of all the colors of the visible spectrum (red, orange, yellow, green, blue, indigo, and violet).\n",
      "2. **Atmosphere**: When sunlight enters the Earth's atmosphere, it encounters tiny molecules of gases like nitrogen (N2) and oxygen (O2). These molecules scatter the light in all directions.\n",
      "3. **Scattering**: The shorter, blue wavelengths of light are scattered more than the longer, red wavelengths by these gas molecules. This is known as Rayleigh scattering, named after the British physicist Lord Rayleigh, who first described the phenomenon in the late 19th century.\n",
      "4. **Blue dominance**: As a result of this scattering, the blue light is dispersed throughout the atmosphere, giving the sky its blue appearance. The more blue light that's scattered, the bluer the sky will appear.\n",
      "5. **Red light prevails**: Meanwhile, the longer wavelengths of red and orange light continue to travel in a more direct path to our eyes, with less scattering. This is why the sun itself appears yellow or orange, as our atmosphere scatters away some of the shorter blue wavelengths.\n",
      "6. **Atmospheric conditions**: The color of the sky can be influenced by various atmospheric conditions, such as:\n",
      "\t* Dust and pollution particles: These can scatter light in different ways, making the sky appear more hazy or gray.\n",
      "\t* Water vapor: High humidity can lead to a more diffuse scattering of light, resulting in a whiter or grayer sky.\n",
      "\t* Clouds: Thick clouds can reflect and scatter sunlight, changing the apparent color of the sky.\n",
      "\n",
      "In summary, the sky appears blue because of the selective scattering of shorter blue wavelengths by the tiny gas molecules in our atmosphere. The exact shade of blue can vary depending on atmospheric conditions, but the fundamental principle remains the same!\n"
     ]
    }
   ],
   "source": [
    "\n",
    "response = ollama.chat(model='llama3', messages=[\n",
    "  {\n",
    "    'role': 'user',\n",
    "    'content': 'Why is the sky blue?',\n",
    "  },\n",
    "])\n",
    "print(response['message']['content'])"
   ]
  },
  {
   "cell_type": "markdown",
   "metadata": {},
   "source": [
    "### Model response\n",
    "\n",
    "\"What a great question!\n",
    "\n",
    "The sky appears blue to our eyes because of the way that light behaves when it interacts with the Earth's atmosphere. Here's a simplified explanation:\n",
    "\n",
    "1. **Sunlight**: The sun emits white light, which is made up of all the colors of the visible spectrum (red, orange, yellow, green, blue, indigo, and violet).\n",
    "2. **Atmosphere**: When sunlight enters the Earth's atmosphere, it encounters tiny molecules of gases like nitrogen (N2) and oxygen (O2). These molecules scatter the light in all directions.\n",
    "3. **Scattering**: The shorter, blue wavelengths of light are scattered more than the longer, red wavelengths by these gas molecules. This is known as Rayleigh scattering, named after the British physicist Lord Rayleigh, who first described the phenomenon in the late 19th century.\n",
    "4. **Blue dominance**: As a result of this scattering, the blue light is dispersed throughout the atmosphere, giving the sky its blue appearance. The more blue light that's scattered, the bluer the sky will appear.\n",
    "5. **Red light prevails**: Meanwhile, the longer wavelengths of red and orange light continue to travel in a more direct path to our eyes, with less scattering. This is why the sun itself appears yellow or orange, as our atmosphere scatters away some of the shorter blue wavelengths.\n",
    "6. **Atmospheric conditions**: The color of the sky can be influenced by various atmospheric conditions, such as:\n",
    "\t* Dust and pollution particles: These can scatter light in different ways, making the sky appear more hazy or gray.\n",
    "\t* Water vapor: High humidity can lead to a more diffuse scattering of light, resulting in a whiter or grayer sky.\n",
    "\t* Clouds: Thick clouds can reflect and scatter sunlight, changing the apparent color of the sky.\n",
    "\n",
    "In summary, the sky appears blue because of the selective scattering of shorter blue wavelengths by the tiny gas molecules in our atmosphere. The exact shade of blue can vary depending on atmospheric conditions, but the fundamental principle remains the same!\""
   ]
  },
  {
   "cell_type": "code",
   "execution_count": 8,
   "metadata": {},
   "outputs": [
    {
     "name": "stdout",
     "output_type": "stream",
     "text": [
      "To create a function in Python, you start by typing the `def` keyword followed by the name of your function and parentheses that contain any required parameters. Within the function, you can use variables, conditionals, loops, and other control structures to perform some action or computation. For example: `def greet(name): print(\"Hello, \" + name + \"!\")`."
     ]
    }
   ],
   "source": [
    "import ollama\n",
    "\n",
    "stream = ollama.chat(\n",
    "    model='llama3',\n",
    "    messages=[{'role': 'user', 'content': 'how to make a function in python? 3 sentence'}],\n",
    "    stream=True,\n",
    ")\n",
    "\n",
    "for chunk in stream:\n",
    "  print(chunk['message']['content'], end='', flush=True)\n"
   ]
  },
  {
   "cell_type": "code",
   "execution_count": 16,
   "metadata": {},
   "outputs": [
    {
     "name": "stdout",
     "output_type": "stream",
     "text": [
      "What a great question! While you may not be able to replicate Steve Jobs' exact path or personality, you can certainly learn from his strategies, philosophies, and habits that contributed to his success. Here are some key takeaways:\n",
      "\n",
      "1. **Passion**: Steve Jobs was known for his intense passion for innovation and design. Find what drives you and pour your heart into it.\n",
      "2. **Visionary thinking**: Jobs had a remarkable ability to envision the future and bring innovative ideas to life. Practice thinking outside the box, imagining new possibilities, and connecting seemingly unrelated dots.\n",
      "3. **Design matters**: Steve Jobs believed that design was crucial to creating products people loved. Focus on creating beautiful, user-friendly designs that solve real problems.\n",
      "4. **Innovate or die**: Jobs understood that innovation is essential for survival in today's fast-paced world. Stay curious, learn from others, and continually innovate to stay ahead of the curve.\n",
      "5. **Simplify and focus**: Steve Jobs was known for his ability to simplify complex ideas and eliminate distractions. Practice prioritizing your goals, eliminating non-essential tasks, and staying focused on what truly matters.\n",
      "6. **Embrace failure**: Jobs believed that failure is an essential part of the learning process. Don't be afraid to take risks, experiment, and learn from your mistakes.\n",
      "7. **Collaborate with others**: Steve Jobs surrounded himself with talented individuals who shared his vision and values. Build relationships with people who inspire and motivate you to grow.\n",
      "8. **Attention to detail**: Jobs was known for his obsessive attention to detail, ensuring that every aspect of a product or service was perfect before releasing it. Practice scrutinizing your work and striving for perfection.\n",
      "9. **Be willing to disrupt**: Steve Jobs was not afraid to challenge conventional wisdom and disrupt established industries. Be open to challenging assumptions and exploring unconventional solutions.\n",
      "10. **Stay true to yourself**: Despite his many successes, Steve Jobs remained authentic and true to himself throughout his life. Find your own identity and stay committed to your values and passions.\n",
      "\n",
      "While you may not be able to replicate Steve Jobs' exact path or personality, by adopting these principles, you can cultivate the mindset and habits that contributed to his success:\n",
      "\n",
      "* Focus on creating innovative solutions that solve real problems.\n",
      "* Prioritize design and user experience in everything you do.\n",
      "* Stay curious, learn from others, and continually innovate.\n",
      "* Embrace failure as an opportunity for growth and learning.\n",
      "* Surround yourself with talented individuals who share your vision and values.\n",
      "\n",
      "Remember, Steve Jobs was a unique individual with his own strengths and weaknesses. By emulating these principles, you can develop your own path to success and make a lasting impact in your industry or community.\n"
     ]
    }
   ],
   "source": [
    "# Let's create a function\n",
    "def gpt(prompt=\"return hi, nothing else\"):\n",
    "  response = ollama.chat(model='llama3', messages=[\n",
    "  {\n",
    "    'role': 'user',\n",
    "    'content': prompt,\n",
    "  },\n",
    "  ])\n",
    "  return response['message']['content']\n",
    "\n",
    "\n",
    "print(gpt(\"How can I be like Steve Jobs?\"))\n"
   ]
  },
  {
   "cell_type": "code",
   "execution_count": 1,
   "metadata": {},
   "outputs": [
    {
     "name": "stdout",
     "output_type": "stream",
     "text": [
      "Hej! Hur är ditt dag?\n",
      "Jaha! Det var trevligt att höra. Jag har ingen speciell dag just nu, bara en digital existence på internet. Men jag är alltid glad när jag kan prata med människor som du! Vad vill du prata om idag?\n",
      "Dans!\n",
      "\n",
      "Jag älskar dans! Det är ett sånt underbart sätt att röra sig, uttrycka sig och släppa av sig. Det finns så många olika typer av dans, varje genre har sin egen charm.\n",
      "\n",
      "Vad om du gillar en speciell typ av dans? Är det salsa, tango, ballet, hip hop eller något annat?\n",
      "\n",
      "Jag kan prata om dans hela dagen!\n"
     ]
    },
    {
     "ename": "KeyboardInterrupt",
     "evalue": "Interrupted by user",
     "output_type": "error",
     "traceback": [
      "\u001b[0;31m---------------------------------------------------------------------------\u001b[0m",
      "\u001b[0;31mKeyboardInterrupt\u001b[0m                         Traceback (most recent call last)",
      "Cell \u001b[0;32mIn[1], line 33\u001b[0m\n\u001b[1;32m     30\u001b[0m   \u001b[38;5;28mprint\u001b[39m(\u001b[38;5;124m\"\u001b[39m\u001b[38;5;124m\"\u001b[39m)\n\u001b[1;32m     32\u001b[0m \u001b[38;5;28;01mwhile\u001b[39;00m \u001b[38;5;28;01mTrue\u001b[39;00m:\n\u001b[0;32m---> 33\u001b[0m     chat \u001b[38;5;241m=\u001b[39m \u001b[38;5;28;43minput\u001b[39;49m\u001b[43m(\u001b[49m\u001b[38;5;124;43m\"\u001b[39;49m\u001b[38;5;124;43m>>> \u001b[39;49m\u001b[38;5;124;43m\"\u001b[39;49m\u001b[43m)\u001b[49m\n\u001b[1;32m     35\u001b[0m     \u001b[38;5;28;01mif\u001b[39;00m chat \u001b[38;5;241m==\u001b[39m \u001b[38;5;124m\"\u001b[39m\u001b[38;5;124m/exit\u001b[39m\u001b[38;5;124m\"\u001b[39m:\n\u001b[1;32m     36\u001b[0m         \u001b[38;5;28;01mbreak\u001b[39;00m\n",
      "File \u001b[0;32m/Library/Frameworks/Python.framework/Versions/3.12/lib/python3.12/site-packages/ipykernel/kernelbase.py:1262\u001b[0m, in \u001b[0;36mKernel.raw_input\u001b[0;34m(self, prompt)\u001b[0m\n\u001b[1;32m   1260\u001b[0m     msg \u001b[38;5;241m=\u001b[39m \u001b[38;5;124m\"\u001b[39m\u001b[38;5;124mraw_input was called, but this frontend does not support input requests.\u001b[39m\u001b[38;5;124m\"\u001b[39m\n\u001b[1;32m   1261\u001b[0m     \u001b[38;5;28;01mraise\u001b[39;00m StdinNotImplementedError(msg)\n\u001b[0;32m-> 1262\u001b[0m \u001b[38;5;28;01mreturn\u001b[39;00m \u001b[38;5;28;43mself\u001b[39;49m\u001b[38;5;241;43m.\u001b[39;49m\u001b[43m_input_request\u001b[49m\u001b[43m(\u001b[49m\n\u001b[1;32m   1263\u001b[0m \u001b[43m    \u001b[49m\u001b[38;5;28;43mstr\u001b[39;49m\u001b[43m(\u001b[49m\u001b[43mprompt\u001b[49m\u001b[43m)\u001b[49m\u001b[43m,\u001b[49m\n\u001b[1;32m   1264\u001b[0m \u001b[43m    \u001b[49m\u001b[38;5;28;43mself\u001b[39;49m\u001b[38;5;241;43m.\u001b[39;49m\u001b[43m_parent_ident\u001b[49m\u001b[43m[\u001b[49m\u001b[38;5;124;43m\"\u001b[39;49m\u001b[38;5;124;43mshell\u001b[39;49m\u001b[38;5;124;43m\"\u001b[39;49m\u001b[43m]\u001b[49m\u001b[43m,\u001b[49m\n\u001b[1;32m   1265\u001b[0m \u001b[43m    \u001b[49m\u001b[38;5;28;43mself\u001b[39;49m\u001b[38;5;241;43m.\u001b[39;49m\u001b[43mget_parent\u001b[49m\u001b[43m(\u001b[49m\u001b[38;5;124;43m\"\u001b[39;49m\u001b[38;5;124;43mshell\u001b[39;49m\u001b[38;5;124;43m\"\u001b[39;49m\u001b[43m)\u001b[49m\u001b[43m,\u001b[49m\n\u001b[1;32m   1266\u001b[0m \u001b[43m    \u001b[49m\u001b[43mpassword\u001b[49m\u001b[38;5;241;43m=\u001b[39;49m\u001b[38;5;28;43;01mFalse\u001b[39;49;00m\u001b[43m,\u001b[49m\n\u001b[1;32m   1267\u001b[0m \u001b[43m\u001b[49m\u001b[43m)\u001b[49m\n",
      "File \u001b[0;32m/Library/Frameworks/Python.framework/Versions/3.12/lib/python3.12/site-packages/ipykernel/kernelbase.py:1305\u001b[0m, in \u001b[0;36mKernel._input_request\u001b[0;34m(self, prompt, ident, parent, password)\u001b[0m\n\u001b[1;32m   1302\u001b[0m \u001b[38;5;28;01mexcept\u001b[39;00m \u001b[38;5;167;01mKeyboardInterrupt\u001b[39;00m:\n\u001b[1;32m   1303\u001b[0m     \u001b[38;5;66;03m# re-raise KeyboardInterrupt, to truncate traceback\u001b[39;00m\n\u001b[1;32m   1304\u001b[0m     msg \u001b[38;5;241m=\u001b[39m \u001b[38;5;124m\"\u001b[39m\u001b[38;5;124mInterrupted by user\u001b[39m\u001b[38;5;124m\"\u001b[39m\n\u001b[0;32m-> 1305\u001b[0m     \u001b[38;5;28;01mraise\u001b[39;00m \u001b[38;5;167;01mKeyboardInterrupt\u001b[39;00m(msg) \u001b[38;5;28;01mfrom\u001b[39;00m \u001b[38;5;28;01mNone\u001b[39;00m\n\u001b[1;32m   1306\u001b[0m \u001b[38;5;28;01mexcept\u001b[39;00m \u001b[38;5;167;01mException\u001b[39;00m:\n\u001b[1;32m   1307\u001b[0m     \u001b[38;5;28mself\u001b[39m\u001b[38;5;241m.\u001b[39mlog\u001b[38;5;241m.\u001b[39mwarning(\u001b[38;5;124m\"\u001b[39m\u001b[38;5;124mInvalid Message:\u001b[39m\u001b[38;5;124m\"\u001b[39m, exc_info\u001b[38;5;241m=\u001b[39m\u001b[38;5;28;01mTrue\u001b[39;00m)\n",
      "\u001b[0;31mKeyboardInterrupt\u001b[0m: Interrupted by user"
     ]
    }
   ],
   "source": [
    "import ollama\n",
    "\n",
    "messages = []\n",
    "\n",
    "def send(chat):\n",
    "  messages.append(\n",
    "    {\n",
    "      'role': 'user',\n",
    "      'content': chat,\n",
    "    }\n",
    "  )\n",
    "  stream = ollama.chat(model='llama3', \n",
    "    messages=messages,\n",
    "    stream=True,\n",
    "  )\n",
    "\n",
    "  response = \"\"\n",
    "  for chunk in stream:\n",
    "    part = chunk['message']['content']\n",
    "    print(part, end='', flush=True)\n",
    "    response = response + part\n",
    "\n",
    "  messages.append(\n",
    "    {\n",
    "      'role': 'assistant',\n",
    "      'content': response,\n",
    "    }\n",
    "  )\n",
    "\n",
    "  print(\"\")\n",
    "\n",
    "while True:\n",
    "    chat = input(\">>> \")\n",
    "\n",
    "    if chat == \"/exit\":\n",
    "        break\n",
    "    elif len(chat) > 0:\n",
    "        send(chat)"
   ]
  }
 ],
 "metadata": {
  "kernelspec": {
   "display_name": "Python 3",
   "language": "python",
   "name": "python3"
  },
  "language_info": {
   "codemirror_mode": {
    "name": "ipython",
    "version": 3
   },
   "file_extension": ".py",
   "mimetype": "text/x-python",
   "name": "python",
   "nbconvert_exporter": "python",
   "pygments_lexer": "ipython3",
   "version": "3.12.1"
  }
 },
 "nbformat": 4,
 "nbformat_minor": 2
}
